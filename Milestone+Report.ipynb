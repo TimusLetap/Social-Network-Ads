{
 "cells": [
  {
   "cell_type": "markdown",
   "metadata": {},
   "source": [
    "Write a draft of your Capstone project 1 milestone report with the following included:\n",
    "\n",
    "Define the problem\n",
    "Identify your client\n",
    "Describe your data set, and how you cleaned/wrangled it\n",
    "List other potential data sets you could use\n",
    "Explain your initial findings\n",
    "Share the Capstone Project 1 code and milestone report related to Github repository\n",
    "Prior Knowledge Recap\n",
    "\n",
    "You have proposed a project, collected a data set, wrangled and cleaned up the data, and explored it with descriptive + inferential statistics techniques.\n",
    "\n",
    "Key Terms & Concepts\n",
    "\n",
    "Client: name of the individual or business you are working with for your Capstone Project 1. The client can be real or hypothetical.\n",
    "Business problem: The questions or issue you are looking to answer/solve through the proposed project"
   ]
  },
  {
   "cell_type": "markdown",
   "metadata": {},
   "source": [
    "## Business Problem\n",
    "* Deficiency in optimization of delivery to users on social networks based on specific criteria\n",
    "    * Age\n",
    "        * Factor that determines if age groups provide a more optimal Purchased outcome\n",
    "    * Estimated Salary\n",
    "        * Factor that determines if salary ranges provide a more optimal Purchased outcome\n",
    "* Use solutions and observations to determine strategies for optimizing ad deployment on social networks to improve prurchases outcome"
   ]
  },
  {
   "cell_type": "markdown",
   "metadata": {},
   "source": [
    "## Client\n",
    "* Ideal client would be small to medium scale ad agency with initial delivery of social network ad campaigns. The factors are minimal in the dataset so this would mean that the client does not have enough metriculated data of users, indicating an early stage of deployment. Building more informed and precise metrics with observations is highly necessary for optimization and improvement. Accurately discerning optimal factors that increase success and likelihood for purchased is the current variable for performance success. "
   ]
  },
  {
   "cell_type": "markdown",
   "metadata": {},
   "source": [
    "## ETL\n",
    "* Dataset was extracted from compressed file, observed for integrity, transformed (in this case edited) for missing and corrupt data, then loaded to python. \n",
    "    * Extraction was needed to uncompress the data and have access to file\n",
    "    * Integrity check was done with notepad to physically notice any discernable errors or discrepancies\n",
    "    * Editing was needed to remove values that may have caused inconsistencies due to errors and NaN values\n",
    "        * Errors that arised were wrongful indentations, missing separators\n",
    "        * When applicable and traceable edits were done to make obvious corrections"
   ]
  },
  {
   "cell_type": "markdown",
   "metadata": {},
   "source": [
    "## Other Potential Datasets\n",
    "* Other datasets that could be used to improve observations:\n",
    "    * More expansive dataset that encompasses more various factors that impact Purchased outcome\n",
    "    * Time-series dataset to derive insights based on time periods to observe patterns and changes over time\n",
    "    * Larger dataset would also help improve observations by providing more accuracy\n",
    "        * Can use datasets about repeat purchases, purchase categories and purchase amounts\n",
    "            * Would generate better user behavior trends and purchases analysis\n",
    "                * Would provide great insight for optimized targeting on social media deployment for ads"
   ]
  },
  {
   "cell_type": "markdown",
   "metadata": {},
   "source": [
    "## Initial Findings\n",
    "* Initial observations include:\n",
    "    * Sample size issues (may cause false positives due to insufficiency)\n",
    "    * Estimated Salary and Age seem to be the most predictive measurements to use\n",
    "        * Age has definable segments that can be correlated to Purchased\n",
    "            * Age could be related to product types or just in general to Age range within relation to Purchased, having the overall aspect of Age determining the Purchased outcome probability\n",
    "        * Estimated Salary has clear segments that can be related to Purchased\n",
    "            * Estimated Salary is a factor with relation to Purchased due to the significance of purchasing and ability to\n",
    "                * In Estimated Salary we can also see that the liklihood for one of higher salary does not increase their Purchased significance. From this we can determine feasibility constraints and liklihood of Purchased are uniquely dependent with Estimated Salary. \n",
    "    * Gender does not register a significance with respect to Purchased"
   ]
  }
 ],
 "metadata": {
  "kernelspec": {
   "display_name": "Python 3",
   "language": "python",
   "name": "python3"
  },
  "language_info": {
   "codemirror_mode": {
    "name": "ipython",
    "version": 3
   },
   "file_extension": ".py",
   "mimetype": "text/x-python",
   "name": "python",
   "nbconvert_exporter": "python",
   "pygments_lexer": "ipython3",
   "version": "3.6.1"
  }
 },
 "nbformat": 4,
 "nbformat_minor": 2
}
